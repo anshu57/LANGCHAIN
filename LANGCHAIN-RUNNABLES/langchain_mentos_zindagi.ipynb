{
 "cells": [
  {
   "cell_type": "code",
   "execution_count": 24,
   "id": "6b590c05",
   "metadata": {},
   "outputs": [],
   "source": [
    "import random\n",
    "from abc import ABC, abstractmethod"
   ]
  },
  {
   "cell_type": "code",
   "execution_count": 47,
   "id": "d594fca5",
   "metadata": {},
   "outputs": [],
   "source": [
    "class Runnable(ABC):\n",
    "\n",
    "  @abstractmethod\n",
    "  def invoke(input_data):\n",
    "    pass"
   ]
  },
  {
   "cell_type": "code",
   "execution_count": 57,
   "id": "dd6a170f",
   "metadata": {},
   "outputs": [],
   "source": [
    "class NakliLLM(Runnable):\n",
    "    def __init__(self):\n",
    "        print('LLM created')\n",
    "\n",
    "    def invoke(self, prompt):\n",
    "        response_list = [\n",
    "            'Delhi is th capital of india.',\n",
    "            'IPL is a cricket league.',\n",
    "            'AI stands for Artificial Intelligence'\n",
    "        ]\n",
    "        return {'response': random.choice(response_list)}\n",
    "    def predict(self, prompt):\n",
    "        response_list = [\n",
    "            'Delhi is th capital of india.',\n",
    "            'IPL is a cricket league.',\n",
    "            'AI stands for Artificial Intelligence'\n",
    "        ]\n",
    "\n",
    "        return {'response': random.choice(response_list)}"
   ]
  },
  {
   "cell_type": "code",
   "execution_count": 65,
   "id": "941015ae",
   "metadata": {},
   "outputs": [],
   "source": [
    "class NakliStrOutputParser(Runnable):\n",
    "\n",
    "    def __init__(self):\n",
    "        pass\n",
    "\n",
    "    def invoke(self, input_data):\n",
    "        return input_data['response']"
   ]
  },
  {
   "cell_type": "code",
   "execution_count": 58,
   "id": "b6ab0bda",
   "metadata": {},
   "outputs": [],
   "source": [
    "class NakliPromptTemplate(Runnable):\n",
    "    def __init__(self, template, input_variables):\n",
    "        self.template = template\n",
    "        self.input_variables = input_variables\n",
    "\n",
    "    def invoke(self,input_dict):\n",
    "        return self.template.format(**input_dict)\n",
    "\n",
    "    def format(self, input_dict):\n",
    "        return self.template.format(**input_dict)"
   ]
  },
  {
   "cell_type": "code",
   "execution_count": 59,
   "id": "a3fc650c",
   "metadata": {},
   "outputs": [],
   "source": [
    "class NakliStrOutputParser(Runnable):\n",
    "\n",
    "  def __init__(self):\n",
    "    pass\n",
    "\n",
    "  def invoke(self, input_data):\n",
    "    return input_data['response']"
   ]
  },
  {
   "cell_type": "code",
   "execution_count": 60,
   "id": "c030c764",
   "metadata": {},
   "outputs": [],
   "source": [
    "class RunnableConnector(Runnable):\n",
    "\n",
    "    def __init__(self, runnable_list):\n",
    "        self.runnable_list = runnable_list\n",
    "    \n",
    "    def invoke(self,input_data):\n",
    "        \n",
    "        for runnable in self.runnable_list:\n",
    "            input_data = runnable.invoke(input_data)\n",
    "        return input_data\n",
    "    "
   ]
  },
  {
   "cell_type": "code",
   "execution_count": 61,
   "id": "5dfb5489",
   "metadata": {},
   "outputs": [],
   "source": [
    "template = NakliPromptTemplate(\n",
    "    template=\"Write a {length} poem about {topic}\",\n",
    "    input_variables=['length','topic']\n",
    ")"
   ]
  },
  {
   "cell_type": "code",
   "execution_count": 62,
   "id": "d957aa86",
   "metadata": {},
   "outputs": [
    {
     "name": "stdout",
     "output_type": "stream",
     "text": [
      "LLM created\n"
     ]
    }
   ],
   "source": [
    "llm = NakliLLM()"
   ]
  },
  {
   "cell_type": "code",
   "execution_count": 66,
   "id": "adcd5f8a",
   "metadata": {},
   "outputs": [],
   "source": [
    "parser = NakliStrOutputParser()"
   ]
  },
  {
   "cell_type": "code",
   "execution_count": 67,
   "id": "4056d070",
   "metadata": {},
   "outputs": [],
   "source": [
    "chain = RunnableConnector([template, llm, parser])"
   ]
  },
  {
   "cell_type": "code",
   "execution_count": 68,
   "id": "504d376c",
   "metadata": {},
   "outputs": [
    {
     "data": {
      "text/plain": [
       "'IPL is a cricket league.'"
      ]
     },
     "execution_count": 68,
     "metadata": {},
     "output_type": "execute_result"
    }
   ],
   "source": [
    "chain.invoke({'length':'long', 'topic':'india'})"
   ]
  },
  {
   "cell_type": "code",
   "execution_count": 70,
   "id": "47357471",
   "metadata": {},
   "outputs": [],
   "source": [
    "template1 = NakliPromptTemplate(\n",
    "    template=\"Write a joke about {topic}\",\n",
    "    input_variables=['topic']\n",
    ")"
   ]
  },
  {
   "cell_type": "code",
   "execution_count": 71,
   "id": "edaee39f",
   "metadata": {},
   "outputs": [],
   "source": [
    "template2 = NakliPromptTemplate(\n",
    "    template=\"Explain the following joke {response}\",\n",
    "    input_variables=['response']\n",
    ")"
   ]
  },
  {
   "cell_type": "code",
   "execution_count": 72,
   "id": "0ffa05cc",
   "metadata": {},
   "outputs": [
    {
     "name": "stdout",
     "output_type": "stream",
     "text": [
      "LLM created\n"
     ]
    }
   ],
   "source": [
    "llm = NakliLLM()"
   ]
  },
  {
   "cell_type": "code",
   "execution_count": 73,
   "id": "a594d640",
   "metadata": {},
   "outputs": [],
   "source": [
    "parser = NakliStrOutputParser()"
   ]
  },
  {
   "cell_type": "code",
   "execution_count": 75,
   "id": "46cf8458",
   "metadata": {},
   "outputs": [],
   "source": [
    "chain1 = RunnableConnector([template1, llm])"
   ]
  },
  {
   "cell_type": "code",
   "execution_count": 77,
   "id": "9b53301a",
   "metadata": {},
   "outputs": [
    {
     "data": {
      "text/plain": [
       "{'response': 'IPL is a cricket league.'}"
      ]
     },
     "execution_count": 77,
     "metadata": {},
     "output_type": "execute_result"
    }
   ],
   "source": [
    "chain1.invoke({'topic':'AI'})"
   ]
  },
  {
   "cell_type": "code",
   "execution_count": 78,
   "id": "45612b36",
   "metadata": {},
   "outputs": [],
   "source": [
    "chain2 = RunnableConnector([template2, llm, parser])"
   ]
  },
  {
   "cell_type": "code",
   "execution_count": 79,
   "id": "32a71d9b",
   "metadata": {},
   "outputs": [],
   "source": [
    "final_chain = RunnableConnector([chain1, chain2])"
   ]
  },
  {
   "cell_type": "code",
   "execution_count": 80,
   "id": "04cb051c",
   "metadata": {},
   "outputs": [
    {
     "data": {
      "text/plain": [
       "'Delhi is th capital of india.'"
      ]
     },
     "execution_count": 80,
     "metadata": {},
     "output_type": "execute_result"
    }
   ],
   "source": [
    "final_chain.invoke({'topic':'cricket'})"
   ]
  },
  {
   "cell_type": "code",
   "execution_count": null,
   "id": "62b33049",
   "metadata": {},
   "outputs": [],
   "source": []
  }
 ],
 "metadata": {
  "kernelspec": {
   "display_name": ".venv",
   "language": "python",
   "name": "python3"
  },
  "language_info": {
   "codemirror_mode": {
    "name": "ipython",
    "version": 3
   },
   "file_extension": ".py",
   "mimetype": "text/x-python",
   "name": "python",
   "nbconvert_exporter": "python",
   "pygments_lexer": "ipython3",
   "version": "3.12.11"
  }
 },
 "nbformat": 4,
 "nbformat_minor": 5
}
