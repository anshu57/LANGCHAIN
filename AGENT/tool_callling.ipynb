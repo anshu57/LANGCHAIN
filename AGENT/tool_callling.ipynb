{
 "cells": [
  {
   "cell_type": "code",
   "execution_count": 75,
   "id": "8dfe89db",
   "metadata": {},
   "outputs": [],
   "source": [
    "from langchain_huggingface import ChatHuggingFace, HuggingFaceEndpoint\n",
    "from langchain_core.tools import tool\n",
    "from langchain_core.messages import HumanMessage\n",
    "import requests"
   ]
  },
  {
   "cell_type": "code",
   "execution_count": 76,
   "id": "c95b9be5",
   "metadata": {},
   "outputs": [],
   "source": [
    "# Tool Creation\n",
    "\n",
    "@tool\n",
    "def multiply(a: int, b: int) -> int:\n",
    "    \"\"\"Given 2 numbers this tool returns their product\"\"\"\n",
    "    return a*b"
   ]
  },
  {
   "cell_type": "code",
   "execution_count": 77,
   "id": "50bdef22",
   "metadata": {},
   "outputs": [
    {
     "name": "stdout",
     "output_type": "stream",
     "text": [
      "12\n"
     ]
    }
   ],
   "source": [
    "print(multiply.invoke({'a':3, 'b':4}))"
   ]
  },
  {
   "cell_type": "code",
   "execution_count": 78,
   "id": "3fffa99b",
   "metadata": {},
   "outputs": [
    {
     "data": {
      "text/plain": [
       "'multiply'"
      ]
     },
     "execution_count": 78,
     "metadata": {},
     "output_type": "execute_result"
    }
   ],
   "source": [
    "multiply.name"
   ]
  },
  {
   "cell_type": "code",
   "execution_count": 79,
   "id": "f33ef152",
   "metadata": {},
   "outputs": [
    {
     "data": {
      "text/plain": [
       "'Given 2 numbers this tool returns their product'"
      ]
     },
     "execution_count": 79,
     "metadata": {},
     "output_type": "execute_result"
    }
   ],
   "source": [
    "multiply.description"
   ]
  },
  {
   "cell_type": "code",
   "execution_count": 80,
   "id": "307eb76a",
   "metadata": {},
   "outputs": [
    {
     "data": {
      "text/plain": [
       "{'a': {'title': 'A', 'type': 'integer'},\n",
       " 'b': {'title': 'B', 'type': 'integer'}}"
      ]
     },
     "execution_count": 80,
     "metadata": {},
     "output_type": "execute_result"
    }
   ],
   "source": [
    "multiply.args"
   ]
  },
  {
   "cell_type": "code",
   "execution_count": 81,
   "id": "1ab059c5",
   "metadata": {},
   "outputs": [
    {
     "data": {
      "text/plain": [
       "True"
      ]
     },
     "execution_count": 81,
     "metadata": {},
     "output_type": "execute_result"
    }
   ],
   "source": [
    "from dotenv import load_dotenv\n",
    "load_dotenv()"
   ]
  },
  {
   "cell_type": "code",
   "execution_count": 135,
   "id": "32863624",
   "metadata": {},
   "outputs": [],
   "source": [
    "llm = HuggingFaceEndpoint(\n",
    "    repo_id=\"deepseek-ai/DeepSeek-V3.1\",\n",
    "    task=\"text-generation\"\n",
    ")\n",
    "\n",
    "model = ChatHuggingFace(llm=llm)"
   ]
  },
  {
   "cell_type": "code",
   "execution_count": 136,
   "id": "530bedeb",
   "metadata": {},
   "outputs": [],
   "source": [
    "llm_with_tools = model.bind_tools([multiply])"
   ]
  },
  {
   "cell_type": "code",
   "execution_count": 84,
   "id": "99f137f4",
   "metadata": {},
   "outputs": [
    {
     "data": {
      "text/plain": [
       "AIMessage(content='Hi! I’m doing great, thanks for asking. How are you?', additional_kwargs={}, response_metadata={'token_usage': {'completion_tokens': 36, 'prompt_tokens': 134, 'total_tokens': 170}, 'model_name': 'openai/gpt-oss-20b', 'system_fingerprint': None, 'finish_reason': 'stop', 'logprobs': None}, id='run--91931d72-423b-485f-b5f5-721fd2ada5a8-0', usage_metadata={'input_tokens': 134, 'output_tokens': 36, 'total_tokens': 170})"
      ]
     },
     "execution_count": 84,
     "metadata": {},
     "output_type": "execute_result"
    }
   ],
   "source": [
    "llm_with_tools.invoke('Hi how are you ?') "
   ]
  },
  {
   "cell_type": "code",
   "execution_count": 85,
   "id": "1d9a369b",
   "metadata": {},
   "outputs": [],
   "source": [
    "query = HumanMessage('can you multiply 3 with 10')"
   ]
  },
  {
   "cell_type": "code",
   "execution_count": 86,
   "id": "0d3dbd3f",
   "metadata": {},
   "outputs": [],
   "source": [
    "messages = [query]"
   ]
  },
  {
   "cell_type": "code",
   "execution_count": 87,
   "id": "270a0ba6",
   "metadata": {},
   "outputs": [
    {
     "data": {
      "text/plain": [
       "[HumanMessage(content='can you multiply 3 with 10', additional_kwargs={}, response_metadata={})]"
      ]
     },
     "execution_count": 87,
     "metadata": {},
     "output_type": "execute_result"
    }
   ],
   "source": [
    "messages"
   ]
  },
  {
   "cell_type": "code",
   "execution_count": 88,
   "id": "31d55033",
   "metadata": {},
   "outputs": [],
   "source": [
    "result = llm_with_tools.invoke(messages)"
   ]
  },
  {
   "cell_type": "code",
   "execution_count": 89,
   "id": "edd8b919",
   "metadata": {},
   "outputs": [],
   "source": [
    "messages.append(result)"
   ]
  },
  {
   "cell_type": "code",
   "execution_count": 90,
   "id": "28316654",
   "metadata": {},
   "outputs": [
    {
     "data": {
      "text/plain": [
       "[HumanMessage(content='can you multiply 3 with 10', additional_kwargs={}, response_metadata={}),\n",
       " AIMessage(content='', additional_kwargs={'tool_calls': [{'function': {'arguments': '{\"a\":3,\"b\":10}', 'name': 'multiply', 'description': None}, 'id': 'call_gyyeb09DW5hDNevkaRbsQNOV', 'type': 'function'}]}, response_metadata={'token_usage': {'completion_tokens': 45, 'prompt_tokens': 137, 'total_tokens': 182}, 'model_name': 'openai/gpt-oss-20b', 'system_fingerprint': None, 'finish_reason': 'tool_calls', 'logprobs': None}, id='run--3f112781-05f8-44af-9608-88dfcc7102f7-0', tool_calls=[{'name': 'multiply', 'args': {'a': 3, 'b': 10}, 'id': 'call_gyyeb09DW5hDNevkaRbsQNOV', 'type': 'tool_call'}], usage_metadata={'input_tokens': 137, 'output_tokens': 45, 'total_tokens': 182})]"
      ]
     },
     "execution_count": 90,
     "metadata": {},
     "output_type": "execute_result"
    }
   ],
   "source": [
    "messages"
   ]
  },
  {
   "cell_type": "code",
   "execution_count": 91,
   "id": "66811c9a",
   "metadata": {},
   "outputs": [],
   "source": [
    "tool_result = multiply.invoke(result.tool_calls[0])"
   ]
  },
  {
   "cell_type": "code",
   "execution_count": 92,
   "id": "03525628",
   "metadata": {},
   "outputs": [],
   "source": [
    "messages.append(tool_result)"
   ]
  },
  {
   "cell_type": "code",
   "execution_count": 93,
   "id": "383b578b",
   "metadata": {},
   "outputs": [
    {
     "data": {
      "text/plain": [
       "[HumanMessage(content='can you multiply 3 with 10', additional_kwargs={}, response_metadata={}),\n",
       " AIMessage(content='', additional_kwargs={'tool_calls': [{'function': {'arguments': '{\"a\":3,\"b\":10}', 'name': 'multiply', 'description': None}, 'id': 'call_gyyeb09DW5hDNevkaRbsQNOV', 'type': 'function'}]}, response_metadata={'token_usage': {'completion_tokens': 45, 'prompt_tokens': 137, 'total_tokens': 182}, 'model_name': 'openai/gpt-oss-20b', 'system_fingerprint': None, 'finish_reason': 'tool_calls', 'logprobs': None}, id='run--3f112781-05f8-44af-9608-88dfcc7102f7-0', tool_calls=[{'name': 'multiply', 'args': {'a': 3, 'b': 10}, 'id': 'call_gyyeb09DW5hDNevkaRbsQNOV', 'type': 'tool_call'}], usage_metadata={'input_tokens': 137, 'output_tokens': 45, 'total_tokens': 182}),\n",
       " ToolMessage(content='30', name='multiply', tool_call_id='call_gyyeb09DW5hDNevkaRbsQNOV')]"
      ]
     },
     "execution_count": 93,
     "metadata": {},
     "output_type": "execute_result"
    }
   ],
   "source": [
    "messages"
   ]
  },
  {
   "cell_type": "code",
   "execution_count": 94,
   "id": "d9d82d92",
   "metadata": {},
   "outputs": [
    {
     "data": {
      "text/plain": [
       "'The result of multiplying\\u202f3\\u202fby 10 is **30**.'"
      ]
     },
     "execution_count": 94,
     "metadata": {},
     "output_type": "execute_result"
    }
   ],
   "source": [
    "llm_with_tools.invoke(messages).content"
   ]
  },
  {
   "cell_type": "code",
   "execution_count": 213,
   "id": "d05a80e1",
   "metadata": {},
   "outputs": [],
   "source": [
    "# Tool Creation\n",
    "from langchain_core.tools import InjectedToolArg\n",
    "from typing import Annotated\n",
    "\n",
    "@tool\n",
    "def get_conversion_factor(base_currency: str, target_currency: str) -> float:\n",
    "    \"\"\"\n",
    "    This function fetches the currency conversion factor between a given base currency and a target currency\n",
    "    \"\"\"\n",
    "    url = f'https://v6.exchangerate-api.com/v6/40b6138d6d0b30711b7a524d/pair/{base_currency}/{target_currency}'\n",
    "\n",
    "    response = requests.get(url)\n",
    "\n",
    "    return response.json()\n",
    "\n",
    "@tool\n",
    "def convert(base_currency_value: int, conversion_rate: Annotated[float, InjectedToolArg]) -> float:\n",
    "    \"\"\"Given a currency conversion rate this function calculates the target currency value from a given base currency value\"\"\"\n",
    "\n",
    "    return base_currency_value*conversion_rate"
   ]
  },
  {
   "cell_type": "code",
   "execution_count": 214,
   "id": "e1cc0026",
   "metadata": {},
   "outputs": [
    {
     "data": {
      "text/plain": [
       "{'result': 'success',\n",
       " 'documentation': 'https://www.exchangerate-api.com/docs',\n",
       " 'terms_of_use': 'https://www.exchangerate-api.com/terms',\n",
       " 'time_last_update_unix': 1756512002,\n",
       " 'time_last_update_utc': 'Sat, 30 Aug 2025 00:00:02 +0000',\n",
       " 'time_next_update_unix': 1756598402,\n",
       " 'time_next_update_utc': 'Sun, 31 Aug 2025 00:00:02 +0000',\n",
       " 'base_code': 'USD',\n",
       " 'target_code': 'INR',\n",
       " 'conversion_rate': 88.0985}"
      ]
     },
     "execution_count": 214,
     "metadata": {},
     "output_type": "execute_result"
    }
   ],
   "source": [
    "get_conversion_factor.invoke({'base_currency': 'USD', 'target_currency':'INR'})"
   ]
  },
  {
   "cell_type": "code",
   "execution_count": 215,
   "id": "94a4e997",
   "metadata": {},
   "outputs": [
    {
     "data": {
      "text/plain": [
       "880.985"
      ]
     },
     "execution_count": 215,
     "metadata": {},
     "output_type": "execute_result"
    }
   ],
   "source": [
    "convert.invoke({'base_currency_value':10, 'conversion_rate':88.0985})"
   ]
  },
  {
   "cell_type": "code",
   "execution_count": 216,
   "id": "12ebb072",
   "metadata": {},
   "outputs": [],
   "source": [
    "llm = HuggingFaceEndpoint(\n",
    "    repo_id=\"NousResearch/Hermes-4-405B\",\n",
    "    task=\"text-generation\"\n",
    ")\n",
    "\n",
    "model = ChatHuggingFace(llm=llm)"
   ]
  },
  {
   "cell_type": "code",
   "execution_count": 217,
   "id": "0b55c849",
   "metadata": {},
   "outputs": [],
   "source": [
    "llm_with_tools = model.bind_tools([convert, get_conversion_factor])"
   ]
  },
  {
   "cell_type": "code",
   "execution_count": 218,
   "id": "27601722",
   "metadata": {},
   "outputs": [],
   "source": [
    "messages = [HumanMessage('What is the conversion factor between USD and INR, and also based on that please convert 10 USD to INR ?')]"
   ]
  },
  {
   "cell_type": "code",
   "execution_count": 219,
   "id": "0cedd7fb",
   "metadata": {},
   "outputs": [],
   "source": [
    "ai_message = llm_with_tools.invoke(messages)"
   ]
  },
  {
   "cell_type": "code",
   "execution_count": 220,
   "id": "ec4fd5b8",
   "metadata": {},
   "outputs": [],
   "source": [
    "messages.append(ai_message)"
   ]
  },
  {
   "cell_type": "code",
   "execution_count": 221,
   "id": "a7f2d185",
   "metadata": {},
   "outputs": [
    {
     "data": {
      "text/plain": [
       "[{'name': 'get_conversion_factor',\n",
       "  'args': {'base_currency': 'USD', 'target_currency': 'INR'},\n",
       "  'id': 'chatcmpl-tool-2107271aa41d4d5189a11cb58f276280',\n",
       "  'type': 'tool_call'},\n",
       " {'name': 'convert',\n",
       "  'args': {'base_currency_value': 10},\n",
       "  'id': 'chatcmpl-tool-d80810e629f3413a817c7fef5193498b',\n",
       "  'type': 'tool_call'}]"
      ]
     },
     "execution_count": 221,
     "metadata": {},
     "output_type": "execute_result"
    }
   ],
   "source": [
    "ai_message.tool_calls"
   ]
  },
  {
   "cell_type": "code",
   "execution_count": 222,
   "id": "27efed9f",
   "metadata": {},
   "outputs": [],
   "source": [
    "import json\n",
    "for tool_call in ai_message.tool_calls:\n",
    "    # execute the 1st tool to get the value of conversion rate\n",
    "    # Execute the 2nd tool using the conversion rate from tool 1\n",
    "    if tool_call['name'] == 'get_conversion_factor':\n",
    "        tool_message1 = get_conversion_factor.invoke(tool_call)\n",
    "        # fetch the conversion rate \n",
    "        conversion_rate = json.loads(tool_message1.content)['conversion_rate']\n",
    "        messages.append(tool_message1)\n",
    "\n",
    "    if tool_call['name'] == 'convert':\n",
    "        # fetch the current argument\n",
    "        tool_call['args']['conversion_rate'] = conversion_rate\n",
    "        tool_message2 = convert.invoke(tool_call)\n",
    "        messages.append(tool_message2)\n",
    "\n"
   ]
  },
  {
   "cell_type": "code",
   "execution_count": 223,
   "id": "3a4c5814",
   "metadata": {},
   "outputs": [
    {
     "data": {
      "text/plain": [
       "[HumanMessage(content='What is the conversion factor between USD and INR, and also based on that please convert 10 USD to INR ?', additional_kwargs={}, response_metadata={}),\n",
       " AIMessage(content='', additional_kwargs={'tool_calls': [{'function': {'arguments': '{\"base_currency\": \"USD\", \"target_currency\": \"INR\"}', 'name': 'get_conversion_factor', 'description': None}, 'id': 'chatcmpl-tool-2107271aa41d4d5189a11cb58f276280', 'type': 'function'}, {'function': {'arguments': '{\"base_currency_value\": 10}', 'name': 'convert', 'description': None}, 'id': 'chatcmpl-tool-d80810e629f3413a817c7fef5193498b', 'type': 'function'}]}, response_metadata={'token_usage': {'completion_tokens': 51, 'prompt_tokens': 289, 'total_tokens': 340}, 'model_name': 'NousResearch/Hermes-4-405B', 'system_fingerprint': None, 'finish_reason': 'tool_calls', 'logprobs': None}, id='run--254f378d-bd35-4173-98e2-d5651420e522-0', tool_calls=[{'name': 'get_conversion_factor', 'args': {'base_currency': 'USD', 'target_currency': 'INR'}, 'id': 'chatcmpl-tool-2107271aa41d4d5189a11cb58f276280', 'type': 'tool_call'}, {'name': 'convert', 'args': {'base_currency_value': 10, 'conversion_rate': 88.0985}, 'id': 'chatcmpl-tool-d80810e629f3413a817c7fef5193498b', 'type': 'tool_call'}], usage_metadata={'input_tokens': 289, 'output_tokens': 51, 'total_tokens': 340}),\n",
       " ToolMessage(content='{\"result\": \"success\", \"documentation\": \"https://www.exchangerate-api.com/docs\", \"terms_of_use\": \"https://www.exchangerate-api.com/terms\", \"time_last_update_unix\": 1756512002, \"time_last_update_utc\": \"Sat, 30 Aug 2025 00:00:02 +0000\", \"time_next_update_unix\": 1756598402, \"time_next_update_utc\": \"Sun, 31 Aug 2025 00:00:02 +0000\", \"base_code\": \"USD\", \"target_code\": \"INR\", \"conversion_rate\": 88.0985}', name='get_conversion_factor', tool_call_id='chatcmpl-tool-2107271aa41d4d5189a11cb58f276280'),\n",
       " ToolMessage(content='880.985', name='convert', tool_call_id='chatcmpl-tool-d80810e629f3413a817c7fef5193498b')]"
      ]
     },
     "execution_count": 223,
     "metadata": {},
     "output_type": "execute_result"
    }
   ],
   "source": [
    "messages"
   ]
  },
  {
   "cell_type": "code",
   "execution_count": 224,
   "id": "aa968528",
   "metadata": {},
   "outputs": [],
   "source": [
    "result = llm_with_tools.invoke(messages)"
   ]
  },
  {
   "cell_type": "code",
   "execution_count": 225,
   "id": "676053d5",
   "metadata": {},
   "outputs": [
    {
     "data": {
      "text/plain": [
       "'The conversion factor between USD and INR is 88.0985. Therefore, 10 USD is approximately 880.985 INR.'"
      ]
     },
     "execution_count": 225,
     "metadata": {},
     "output_type": "execute_result"
    }
   ],
   "source": [
    "result.content"
   ]
  },
  {
   "cell_type": "code",
   "execution_count": null,
   "id": "c89fa0a1",
   "metadata": {},
   "outputs": [],
   "source": []
  }
 ],
 "metadata": {
  "kernelspec": {
   "display_name": ".venv",
   "language": "python",
   "name": "python3"
  },
  "language_info": {
   "codemirror_mode": {
    "name": "ipython",
    "version": 3
   },
   "file_extension": ".py",
   "mimetype": "text/x-python",
   "name": "python",
   "nbconvert_exporter": "python",
   "pygments_lexer": "ipython3",
   "version": "3.12.11"
  }
 },
 "nbformat": 4,
 "nbformat_minor": 5
}
