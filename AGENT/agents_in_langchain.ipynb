{
 "cells": [
  {
   "cell_type": "code",
   "execution_count": 1,
   "id": "fb849649",
   "metadata": {},
   "outputs": [
    {
     "data": {
      "text/plain": [
       "True"
      ]
     },
     "execution_count": 1,
     "metadata": {},
     "output_type": "execute_result"
    }
   ],
   "source": [
    "import os\n",
    "from dotenv import load_dotenv\n",
    "load_dotenv()"
   ]
  },
  {
   "cell_type": "code",
   "execution_count": 2,
   "id": "1c454cdd",
   "metadata": {},
   "outputs": [],
   "source": [
    "from langchain_core.tools import tool\n",
    "from langchain_huggingface import ChatHuggingFace, HuggingFaceEndpoint\n",
    "import requests"
   ]
  },
  {
   "cell_type": "code",
   "execution_count": 3,
   "id": "3d8d870a",
   "metadata": {},
   "outputs": [
    {
     "name": "stderr",
     "output_type": "stream",
     "text": [
      "/Users/anshugangwar/Desktop/Anshu/LangChain/.venv/lib/python3.12/site-packages/langchain_community/utilities/duckduckgo_search.py:63: RuntimeWarning: This package (`duckduckgo_search`) has been renamed to `ddgs`! Use `pip install ddgs` instead.\n",
      "  with DDGS() as ddgs:\n"
     ]
    }
   ],
   "source": [
    "from langchain_community.tools import DuckDuckGoSearchRun\n",
    "\n",
    "search_tool = DuckDuckGoSearchRun()\n",
    "\n",
    "results = search_tool.invoke('top news in india today')"
   ]
  },
  {
   "cell_type": "code",
   "execution_count": 4,
   "id": "966471af",
   "metadata": {},
   "outputs": [
    {
     "data": {
      "text/plain": [
       "\"13 hours ago · India News Today: Get latest India news and breaking news from India on Times of India. TOI brings the top news headlines from India on Politics, Elections, Current Affairs and more  4 days ago · Today's News Online: Read the Latest News Updates online related to India, World and US business and economy. Also, get the breaking news on politics, auto, technology, mutual … Aug 19, 2025 · Get the latest breaking news from India covering politics, economy, social issues, technology, sports, and more. Stay updated with in-depth analysis and top headlines from across … Latest News Today: Read latest and breaking news from India and across the world. Explore more for current news, premium and WSJ news, business news on Mint.\""
      ]
     },
     "execution_count": 4,
     "metadata": {},
     "output_type": "execute_result"
    }
   ],
   "source": [
    "results"
   ]
  },
  {
   "cell_type": "code",
   "execution_count": 16,
   "id": "32e2557b",
   "metadata": {},
   "outputs": [],
   "source": [
    "@tool\n",
    "def get_weather_data(city: str) -> str:\n",
    "    \"\"\"\n",
    "    This function fetches the current weather data for a given city.\n",
    "    \"\"\"\n",
    "    url = f'http://api.weatherstack.com/current?access_key=32b41a91bdf95a29f4dec3c8558f0280&query={city}'\n",
    "\n",
    "    response = requests.get(url)\n",
    "    \n",
    "    return response.json()"
   ]
  },
  {
   "cell_type": "code",
   "execution_count": 17,
   "id": "848a8c1e",
   "metadata": {},
   "outputs": [],
   "source": [
    "llm = HuggingFaceEndpoint(\n",
    "    repo_id=\"NousResearch/Hermes-4-405B\",\n",
    "    task=\"text-generation\"\n",
    ")\n",
    "\n",
    "model = ChatHuggingFace(llm=llm)"
   ]
  },
  {
   "cell_type": "code",
   "execution_count": 18,
   "id": "fb3dae17",
   "metadata": {},
   "outputs": [
    {
     "data": {
      "text/plain": [
       "AIMessage(content=\"Hello! I'm Hermes, an AI assistant created by Nous Research. How can I assist you today?\", additional_kwargs={}, response_metadata={'token_usage': {'completion_tokens': 22, 'prompt_tokens': 25, 'total_tokens': 47}, 'model_name': 'NousResearch/Hermes-4-405B', 'system_fingerprint': None, 'finish_reason': 'stop', 'logprobs': None}, id='run--6eda423d-e449-4ff7-b76e-866cca739fdd-0', usage_metadata={'input_tokens': 25, 'output_tokens': 22, 'total_tokens': 47})"
      ]
     },
     "execution_count": 18,
     "metadata": {},
     "output_type": "execute_result"
    }
   ],
   "source": [
    "model.invoke('Hi')"
   ]
  },
  {
   "cell_type": "code",
   "execution_count": 19,
   "id": "aab9f886",
   "metadata": {},
   "outputs": [],
   "source": [
    "from langchain.agents import create_react_agent, AgentExecutor\n",
    "from langchain import hub"
   ]
  },
  {
   "cell_type": "code",
   "execution_count": 20,
   "id": "c9f07283",
   "metadata": {},
   "outputs": [
    {
     "name": "stderr",
     "output_type": "stream",
     "text": [
      "/Users/anshugangwar/Desktop/Anshu/LangChain/.venv/lib/python3.12/site-packages/langsmith/client.py:272: LangSmithMissingAPIKeyWarning: API key must be provided when using hosted LangSmith API\n",
      "  warnings.warn(\n"
     ]
    }
   ],
   "source": [
    "# Step 2 : Pull the ReAct prompt from Langchain Hub\n",
    "\n",
    "prompt = hub.pull(\"hwchase17/react\") #pulls the standard ReAct agent promt\n"
   ]
  },
  {
   "cell_type": "code",
   "execution_count": 21,
   "id": "3e2a28f1",
   "metadata": {},
   "outputs": [],
   "source": [
    "# step 3 : Create the agent manually with th pulled prompt\n",
    "agent = create_react_agent(\n",
    "    llm = model,\n",
    "    tools = [search_tool, get_weather_data],\n",
    "    prompt=prompt\n",
    ")"
   ]
  },
  {
   "cell_type": "code",
   "execution_count": 26,
   "id": "0ae89151",
   "metadata": {},
   "outputs": [],
   "source": [
    "# Step 4 : Wrap it with AgentExecutor\n",
    "agent_executor = AgentExecutor( \n",
    "    agent = agent,\n",
    "    tools = [search_tool, get_weather_data],\n",
    "    verbose=True,\n",
    "    handle_parsing_errors=True\n",
    ")"
   ]
  },
  {
   "cell_type": "code",
   "execution_count": 27,
   "id": "eecae7f3",
   "metadata": {},
   "outputs": [
    {
     "name": "stdout",
     "output_type": "stream",
     "text": [
      "\n",
      "\n",
      "\u001b[1m> Entering new AgentExecutor chain...\u001b[0m\n",
      "\u001b[32;1m\u001b[1;3mQuestion: Find Capital of India, then find it's current weather conditions\n",
      "\n",
      "Thought: To find the capital of India, I will do a web search. Then, once I have the capital, I can look up its current weather conditions.\n",
      "\n",
      "Action: duckduckgo_search\n",
      "Action Input: What is the capital of India?\u001b[0m"
     ]
    },
    {
     "name": "stderr",
     "output_type": "stream",
     "text": [
      "/Users/anshugangwar/Desktop/Anshu/LangChain/.venv/lib/python3.12/site-packages/langchain_community/utilities/duckduckgo_search.py:63: RuntimeWarning: This package (`duckduckgo_search`) has been renamed to `ddgs`! Use `pip install ddgs` instead.\n",
      "  with DDGS() as ddgs:\n"
     ]
    },
    {
     "name": "stdout",
     "output_type": "stream",
     "text": [
      "\u001b[36;1m\u001b[1;3mNo good DuckDuckGo Search Result was found\u001b[0m\u001b[32;1m\u001b[1;3m Weiss, I couldn't find the capital of India through my initial search. Let me try a different query to see if that gives me the information I need.\n",
      "\n",
      "Action: duckduckgo_search\n",
      "Action Input: Capital city of India\u001b[0m"
     ]
    },
    {
     "name": "stderr",
     "output_type": "stream",
     "text": [
      "/Users/anshugangwar/Desktop/Anshu/LangChain/.venv/lib/python3.12/site-packages/langchain_community/utilities/duckduckgo_search.py:63: RuntimeWarning: This package (`duckduckgo_search`) has been renamed to `ddgs`! Use `pip install ddgs` instead.\n",
      "  with DDGS() as ddgs:\n"
     ]
    },
    {
     "name": "stdout",
     "output_type": "stream",
     "text": [
      "\u001b[36;1m\u001b[1;3mAs of 2023, the city has a population of 1.83 million. [11] . It serves as the administrative headquarters of the Jodhpur district and … Jodhpur, formerly known as Marwar, the capital of the Rajput rulers, has long history of various traditions which are followed till date. Located … London used to be the financial capital of the world. In defiance of the ceasefire, rebel troops are again firing on the capital. Fighting around … In the business world, the term ‘capital’ is an integral part of driving business and building an economy. Companies have capital structures … Capitol with a capital \"C\" refers to the particular building in Washington, D.C. where the U.S. Congress meets.\u001b[0m\u001b[32;1m\u001b[1;3moglob\n",
      "I'm running into some confusion with the search results. They mention Jodhpur as the capital of the Rajput rulers, but I believe Delhi is the current capital of India. Let me try a more direct search query to confirm this.\n",
      "\n",
      "Action: duckduckgo_search\n",
      "Action Input: What is the current capital city of India?\u001b[0m"
     ]
    },
    {
     "name": "stderr",
     "output_type": "stream",
     "text": [
      "/Users/anshugangwar/Desktop/Anshu/LangChain/.venv/lib/python3.12/site-packages/langchain_community/utilities/duckduckgo_search.py:63: RuntimeWarning: This package (`duckduckgo_search`) has been renamed to `ddgs`! Use `pip install ddgs` instead.\n",
      "  with DDGS() as ddgs:\n"
     ]
    },
    {
     "name": "stdout",
     "output_type": "stream",
     "text": [
      "\u001b[36;1m\u001b[1;3m请问为什么电压的英文是voltage,缩写却是u，而电流英文是current,缩写是I?通常物理量和该量的单位符号使用的字母是不同的。物理量的单位符号一般使用发明（ … Jun 30, 2025 · Solar Media has extended the deadline for nominations for the Electric Vehicle Innovation and Excellence Awards due to … The closure of the Grangemouth oil refinery, located on the south bank of the Firth of Forth, in the central belt of Scotland, has become … Dec 28, 2023 · Current± Briefings: Tackling grid constraints as a developer In this edition of our Current± Briefings series we sat down with … AC 是英文Alternating Current 的首字母缩写，意为：交流电流，简称交流电 或交流； DC 是英文Direct Current 的首字母缩写，意为：直流电流，简称直流 …\u001b[0m\u001b[32;1m\u001b[1;3mIt seems the search results are not providing the information I need. I recall that the capital of India is New Delhi. Let me confirm this with a more direct search query.\n",
      "\n",
      "Action: duckduckgo_search\n",
      "Action Input: capital of India New Delhi\u001b[0m"
     ]
    },
    {
     "name": "stderr",
     "output_type": "stream",
     "text": [
      "/Users/anshugangwar/Desktop/Anshu/LangChain/.venv/lib/python3.12/site-packages/langchain_community/utilities/duckduckgo_search.py:63: RuntimeWarning: This package (`duckduckgo_search`) has been renamed to `ddgs`! Use `pip install ddgs` instead.\n",
      "  with DDGS() as ddgs:\n"
     ]
    },
    {
     "name": "stdout",
     "output_type": "stream",
     "text": [
      "\u001b[36;1m\u001b[1;3mAs of 2023, the city has a population of 1.83 million. [11] . It serves as the administrative headquarters of the Jodhpur district and … Jodhpur, formerly known as Marwar, the capital of the Rajput rulers, has long history of various traditions which are followed till date. Located … London used to be the financial capital of the world. In defiance of the ceasefire, rebel troops are again firing on the capital. Fighting around … In the business world, the term ‘capital’ is an integral part of driving business and building an economy. Companies have capital structures … Capitol with a capital \"C\" refers to the particular building in Washington, D.C. where the U.S. Congress meets.\u001b[0m\u001b[32;1m\u001b[1;3mI'm still having trouble finding the correct capital of India through these search results. Based on my existing knowledge, I believe New Delhi is the capital of India. Let me proceed with that information to find the current weather conditions there.\n",
      "\n",
      "Action: get_weather_data\n",
      "Action Input: New Delhi\u001b[0m\u001b[33;1m\u001b[1;3m{'request': {'type': 'City', 'query': 'New Delhi, India', 'language': 'en', 'unit': 'm'}, 'location': {'name': 'New Delhi', 'country': 'India', 'region': 'Delhi', 'lat': '28.600', 'lon': '77.200', 'timezone_id': 'Asia/Kolkata', 'localtime': '2025-08-30 20:06', 'localtime_epoch': 1756584360, 'utc_offset': '5.50'}, 'current': {'observation_time': '02:36 PM', 'temperature': 30, 'weather_code': 143, 'weather_icons': ['https://cdn.worldweatheronline.com/images/wsymbols01_png_64/wsymbol_0006_mist.png'], 'weather_descriptions': ['Haze'], 'astro': {'sunrise': '05:58 AM', 'sunset': '06:45 PM', 'moonrise': '12:14 PM', 'moonset': '10:37 PM', 'moon_phase': 'Waxing Crescent', 'moon_illumination': 38}, 'air_quality': {'co': '902.8', 'no2': '27.195', 'o3': '160', 'so2': '53.65', 'pm2_5': '65.12', 'pm10': '65.675', 'us-epa-index': '3', 'gb-defra-index': '3'}, 'wind_speed': 12, 'wind_degree': 104, 'wind_dir': 'ESE', 'pressure': 1004, 'precip': 0, 'humidity': 75, 'cloudcover': 50, 'feelslike': 34, 'uv_index': 0, 'visibility': 5, 'is_day': 'no'}}\u001b[0m\u001b[32;1m\u001b[1;3mFinal Answer: The capital of India is New Delhi. According to the current weather data, it is hazy with a temperature of 30°C. The wind is blowing at 12 km/h from the ESE, and the humidity is 75%. The air quality is moderate, with a US-EPA index of 3.\u001b[0m\n",
      "\n",
      "\u001b[1m> Finished chain.\u001b[0m\n",
      "{'input': \"Find Capital of India, then find it's current weather conditions\", 'output': 'The capital of India is New Delhi. According to the current weather data, it is hazy with a temperature of 30°C. The wind is blowing at 12 km/h from the ESE, and the humidity is 75%. The air quality is moderate, with a US-EPA index of 3.'}\n"
     ]
    }
   ],
   "source": [
    "# Step 5: Invoke\n",
    "\n",
    "response = agent_executor.invoke({\"input\": \"Find Capital of India, then find it's current weather conditions\"})\n",
    "\n",
    "print(response)"
   ]
  },
  {
   "cell_type": "code",
   "execution_count": 28,
   "id": "dbf487ca",
   "metadata": {},
   "outputs": [
    {
     "data": {
      "text/plain": [
       "'The capital of India is New Delhi. According to the current weather data, it is hazy with a temperature of 30°C. The wind is blowing at 12 km/h from the ESE, and the humidity is 75%. The air quality is moderate, with a US-EPA index of 3.'"
      ]
     },
     "execution_count": 28,
     "metadata": {},
     "output_type": "execute_result"
    }
   ],
   "source": [
    "response['output']"
   ]
  },
  {
   "cell_type": "code",
   "execution_count": 15,
   "id": "ea613c90",
   "metadata": {},
   "outputs": [
    {
     "name": "stdout",
     "output_type": "stream",
     "text": [
      "\n",
      "\n",
      "\u001b[1m> Entering new AgentExecutor chain...\u001b[0m\n",
      "\u001b[32;1m\u001b[1;3mQuestion: Who is the UPSC Chairman in india\n",
      "Thought: To find out who the current UPSC Chairman in India is, I should do a search to find this information.\n",
      "Action: duckduckgo_search\n",
      "Action Input: current upsc chairman india\u001b[0m"
     ]
    },
    {
     "name": "stderr",
     "output_type": "stream",
     "text": [
      "/Users/anshugangwar/Desktop/Anshu/LangChain/.venv/lib/python3.12/site-packages/langchain_community/utilities/duckduckgo_search.py:63: RuntimeWarning: This package (`duckduckgo_search`) has been renamed to `ddgs`! Use `pip install ddgs` instead.\n",
      "  with DDGS() as ddgs:\n"
     ]
    },
    {
     "name": "stdout",
     "output_type": "stream",
     "text": [
      "\u001b[36;1m\u001b[1;3mMay 14, 2025 · President Droupadi Murmu has appointed Dr Ajay Kumar as the new UPSC chairman, a retired IAS officer and former Defence Secretary. He takes over from Preeti … Sep 6, 2024 · As of now, the UPSC includes a Chairman and 6 members, all are appointed by the President of India. Below are the details about the members of the UPSC. The salary of the … May 14, 2025 · President Droupadi Murmu has appointed Dr Ajay Kumar as the new Chairman of the Union Public Service Commission (UPSC), the central recruiting agency responsible for … May 16, 2025 · UPSC ఛైర్మన్‌గా డాక్టర్ అజయ్ కుమార్ నియమితులయ్యారు, ఆయన మే 2025 లో అధికారికంగా బాధ్యతలు స్వీకరిస్తారు. ఈ పదవికి ఆయన నియామకాన్ని మే … Aug 5, 2025 · Website Content Managed by © Content Owned by Union Public Service Commission, New Delhi, India. Last Updated: 05 Aug 2025\u001b[0m\u001b[32;1m\u001b[1;3mFrom the search results, it looks like Dr. Ajay Kumar was appointed as the new UPSC Chairman by President Droupadi Murmu. He is a retired IAS officer and former Defense Secretary. No other current chairman is mentioned in the results. I will provide this information in my final answer.\n",
      "\n",
      "Final Answer: The current UPSC Chairman in India is Dr. Ajay Kumar. He was appointed to this role by President Droupadi Murmu in May 2025. Dr. Kumar is a retired IAS officer and previously served as the Defence Secretary of India.\u001b[0m\n",
      "\n",
      "\u001b[1m> Finished chain.\u001b[0m\n",
      "{'input': 'Who is the UPSC Chairman in india', 'output': 'The current UPSC Chairman in India is Dr. Ajay Kumar. He was appointed to this role by President Droupadi Murmu in May 2025. Dr. Kumar is a retired IAS officer and previously served as the Defence Secretary of India.'}\n"
     ]
    }
   ],
   "source": [
    "# Step 5: Invoke\n",
    "\n",
    "response = agent_executor.invoke({\"input\": \"Who is the UPSC Chairman in india\"})\n",
    "\n",
    "print(response)"
   ]
  },
  {
   "cell_type": "code",
   "execution_count": null,
   "id": "5d09c301",
   "metadata": {},
   "outputs": [],
   "source": []
  }
 ],
 "metadata": {
  "kernelspec": {
   "display_name": ".venv",
   "language": "python",
   "name": "python3"
  },
  "language_info": {
   "codemirror_mode": {
    "name": "ipython",
    "version": 3
   },
   "file_extension": ".py",
   "mimetype": "text/x-python",
   "name": "python",
   "nbconvert_exporter": "python",
   "pygments_lexer": "ipython3",
   "version": "3.12.11"
  }
 },
 "nbformat": 4,
 "nbformat_minor": 5
}
